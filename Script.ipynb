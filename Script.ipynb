{
 "cells": [
  {
   "cell_type": "markdown",
   "metadata": {},
   "source": [
    "# Migrating from Cards to Tabs macro\n",
    "\n",
    "This script migrates from the currently used used [Deck of Cards / Card macro](https://apps-docs.servicerocket.com/composition/deck-of-cards) (which is deprecated) to the [Tabs Container / Tabs macro](https://docs.adaptavist.com/cfm4cs/latest/content-formatting-macros/tabs)\n",
    "\n",
    "The Tabs macro brings two primary benefits:\n",
    "* Lazy loading means content is not generated unless somebody is actually looking at the respective tab. This leads to major performance improvements for Pages using the [Page Properties Report](https://confluence.atlassian.com/doc/page-properties-report-macro-186089616.html) macro (which in turn relies on the Page Properties macro on the affected pages).\n",
    "* The Tabs Macro supports directly linking to a specific tab out of the box, which makes it easier to share a specific section of a given page."
   ]
  },
  {
   "cell_type": "markdown",
   "metadata": {},
   "source": [
    "List all supoprted magic commands"
   ]
  },
  {
   "cell_type": "code",
   "execution_count": null,
   "metadata": {},
   "outputs": [],
   "source": [
    "#%lsmagic"
   ]
  },
  {
   "cell_type": "markdown",
   "metadata": {},
   "source": [
    "Install Atlassian API"
   ]
  },
  {
   "cell_type": "code",
   "execution_count": null,
   "metadata": {},
   "outputs": [],
   "source": [
    "#%pip install atlassian-python-api\n",
    "#%pip install lxml"
   ]
  },
  {
   "cell_type": "markdown",
   "metadata": {},
   "source": [
    "### Enterprise Technology Solutions / Services Confluence Space Admins\n",
    "Ben Murphy, Brian Cunningham, Calvin Mccoy Jr., Confluence Role account, Edwin Wee, Jianming Ling, Lance Wisdom, Macy Liu, Mandy Jia Man Lin, Maninder Singh, Mikio Ichino, Sam Lee, Simon Michael, Stuart Cresp, Thomas Warner, Zhendong Fu "
   ]
  },
  {
   "cell_type": "markdown",
   "metadata": {},
   "source": [
    "## Import modules"
   ]
  },
  {
   "cell_type": "code",
   "execution_count": null,
   "metadata": {},
   "outputs": [],
   "source": [
    "from atlassian import Confluence #https://atlassian-python-api.readthedocs.io/\n",
    "from bs4 import BeautifulSoup #https://www.crummy.com/software/BeautifulSoup/bs4/doc/\n",
    "import os\n",
    "import requests\n",
    "import traceback\n",
    "import tqdm.notebook as tq"
   ]
  },
  {
   "cell_type": "markdown",
   "metadata": {},
   "source": [
    "### Step 1 - Change the Card Deck to a Tabs Container"
   ]
  },
  {
   "cell_type": "code",
   "execution_count": null,
   "metadata": {},
   "outputs": [],
   "source": [
    "def change_Deck_to_TabsContainer(content) -> str:\n",
    "    return content.replace('ac:name=\"deck\"', 'ac:name=\"auitabs\"')"
   ]
  },
  {
   "cell_type": "markdown",
   "metadata": {},
   "source": [
    "### Step 2 - Change Cards to Tabs Pages"
   ]
  },
  {
   "cell_type": "code",
   "execution_count": null,
   "metadata": {},
   "outputs": [],
   "source": [
    "def find_all_substrings(a_str, sub):\n",
    "    start = 0\n",
    "    while True:\n",
    "        start = a_str.find(sub, start)\n",
    "        if start == -1: return\n",
    "        yield start\n",
    "        start += len(sub) # use start += 1 to find overlapping matches"
   ]
  },
  {
   "cell_type": "code",
   "execution_count": null,
   "metadata": {},
   "outputs": [],
   "source": [
    "def change_Cards_to_TabsPage(content) -> str:\n",
    "    content = content.replace('ac:name=\"card\"', 'ac:name=\"auitabspage\"')\n",
    "    indices = list(find_all_substrings(content, 'ac:name=\"auitabspage\"')) #60\n",
    "    \n",
    "    lookahead_length = 1000 #How many characters ahead we look for 'label' after 'auitabspage' to avoid conflict with other elements using 'label'\n",
    "    \n",
    "    for idx in indices:\n",
    "        temp = content[idx: (idx + lookahead_length)]\n",
    "        temp = temp.replace('ac:name=\"label\"', 'ac:name=\"title\"')\n",
    "        #print(temp + '\\n')\n",
    "        content = \"\".join((content[:idx], temp, content[idx + lookahead_length:]))\n",
    "    \n",
    "    return content"
   ]
  },
  {
   "cell_type": "markdown",
   "metadata": {},
   "source": [
    "### Find macros that are incompatible with lazy loading"
   ]
  },
  {
   "cell_type": "code",
   "execution_count": null,
   "metadata": {},
   "outputs": [],
   "source": [
    "def incompatible_plugin(element) -> bool:\n",
    "    if any([\n",
    "        element.find(attrs={\"ac:name\": \"details\"}),             #Page Properties, because of Page Properties Report\n",
    "        element.find(attrs={\"ac:name\": \"excerpt-include\"}),     #Excerpt Include\n",
    "        element.find(attrs={\"ac:name\": \"multiexcerpt-include\"}),#Multi-Excerpt Include\n",
    "        element.find(attrs={\"ac:name\": \"include\"}),             #Page Include\n",
    "        element.find(attrs={\"ac:name\": \"expand\"}),              #Expand (regular)\n",
    "        element.find(attrs={\"ac:name\": \"ui-expand\"}),           #UI Expand\n",
    "        element.find(attrs={\"ac:name\": \"viewxls\"}),             #Excel Viewer\n",
    "        element.find(attrs={\"ac:name\": \"viewdoc\"}),             #Word Viewer\n",
    "        element.find(attrs={\"ac:name\": \"viewppt\"}),             #PowerPoint Viewer\n",
    "        element.find(attrs={\"ac:name\": \"viewpdf\"}),             #PowerPoint Viewer\n",
    "        element.find(\"ac:task\"),                                #Task List (Checkboxes)\n",
    "        ]):\n",
    "        return True\n",
    "    return False"
   ]
  },
  {
   "cell_type": "markdown",
   "metadata": {},
   "source": [
    "### Step 3 - Apply lazy loading where possible"
   ]
  },
  {
   "cell_type": "code",
   "execution_count": null,
   "metadata": {},
   "outputs": [],
   "source": [
    "def add_lazy_loading(element, soup, depth) -> None:\n",
    "    #print(depth, '\\n', element, '\\n')\n",
    "    depth += 1\n",
    "    update = False\n",
    "    sub_element = element.find(attrs={\"ac:name\": \"auitabspage\"})\n",
    "    \n",
    "    if not sub_element: #Base case\n",
    "        if not incompatible_plugin(element):\n",
    "            new_tag = soup.new_tag(\"ac:parameter\")\n",
    "            new_tag.string = \"true\"\n",
    "            new_tag[\"ac:name\"] = \"lazyloading\"\n",
    "            before = element.find(attrs={\"ac:name\": \"title\"})\n",
    "            before.insert_after(new_tag)\n",
    "    else:\n",
    "        add_lazy_loading(sub_element, soup, depth)\n",
    "\n",
    "def process_lazy_loading(content) -> None:\n",
    "    all_structured_macro_elements = content.find_all(attrs={\"ac:name\": \"auitabspage\"})\n",
    "    for macro in all_structured_macro_elements:\n",
    "        add_lazy_loading(macro, content, 1)"
   ]
  },
  {
   "cell_type": "markdown",
   "metadata": {},
   "source": [
    "### Process each page in sequence"
   ]
  },
  {
   "cell_type": "code",
   "execution_count": null,
   "metadata": {},
   "outputs": [],
   "source": [
    "def process_page(content) -> str:\n",
    "    content = change_Deck_to_TabsContainer(content)\n",
    "    content = change_Cards_to_TabsPage(content)\n",
    "    soup = BeautifulSoup(content, 'lxml')\n",
    "    process_lazy_loading(soup)\n",
    "    content = \"\".join([str(x) for x in soup.body.children])\n",
    "    return content"
   ]
  },
  {
   "cell_type": "markdown",
   "metadata": {},
   "source": [
    "### Set up the Confluence API"
   ]
  },
  {
   "cell_type": "code",
   "execution_count": null,
   "metadata": {},
   "outputs": [],
   "source": [
    "username = 'etec_team_api'\n",
    "#passwd = getpass.getpass('Password: ')\n",
    "passwd = os.environ['etec_team_api']\n",
    "\n",
    "confluence = Confluence(\n",
    "    #url='https://cms.alpha.bloomberg.com/team', #ALPHA\n",
    "    url='https://cms.prod.bloomberg.com/team', #PROD\n",
    "    username=username,\n",
    "    password=passwd,\n",
    "    proxies={'http': 'http://bproxy.tdmz1.bloomberg.com:80', 'https': 'http://bproxy.tdmz1.bloomberg.com:80'},\n",
    "    #verify_ssl='F://bb-cert//bloomberg-root-ca.crt',\n",
    ")"
   ]
  },
  {
   "cell_type": "markdown",
   "metadata": {},
   "source": [
    "### Store problematic pages\n",
    "Rather than erroring out of we encounter an exception, we store problematic pages and the exception here to be looked at manually later"
   ]
  },
  {
   "cell_type": "code",
   "execution_count": null,
   "metadata": {},
   "outputs": [],
   "source": [
    "pages_with_errors = {} #Dictionary "
   ]
  },
  {
   "cell_type": "markdown",
   "metadata": {},
   "source": [
    "### Get pages in scope\n",
    "Those pages are children of the AMER, APAC and EMEA regional pages, as well as the generic pages. I'm working through manually."
   ]
  },
  {
   "cell_type": "code",
   "execution_count": null,
   "metadata": {},
   "outputs": [],
   "source": [
    "# parent = 658768638 #https://cms.prod.bloomberg.com/team/display/tsci/AMER+Region\n",
    "# parent = 658768579 #https://cms.prod.bloomberg.com/team/display/tsci/APAC+Region\n",
    "# parent = 658768576 #https://cms.prod.bloomberg.com/team/display/tsci/EMEA+Region\n",
    "# parent = 2067235343 #https://cms.prod.bloomberg.com/team/display/tsci/Generic+%28Multi-tenant%29+Gateways\n",
    "\n",
    "children = confluence.get_page_child_by_type(parent, type='page', start=None, limit=None, expand=None)\n",
    "pages = [int(x['id']) for x in children]"
   ]
  },
  {
   "cell_type": "markdown",
   "metadata": {},
   "source": [
    "### Start the actual page updates"
   ]
  },
  {
   "cell_type": "code",
   "execution_count": null,
   "metadata": {},
   "outputs": [],
   "source": [
    "# Problematic pages\n",
    "# pages = [3124080081] #Error with embedded XML specs\n",
    "\n",
    "for page_id in tq.tqdm(pages):\n",
    "    try: \n",
    "        # print(\"Load page \" + str(page_id))\n",
    "        page = confluence.get_page_by_id(page_id, expand='body.storage')\n",
    "        title = page['title']\n",
    "        content = page['body']['storage']['value']\n",
    "        # print(\"Process page \" + str(page_id))\n",
    "        content = process_page(content)\n",
    "        print(\"Update page \" + str(page_id))\n",
    "        confluence.update_page(page_id, title=title, body=content )\n",
    "    except Exception as e:\n",
    "        pages_with_errors[page_id] = str(traceback.format_exc())"
   ]
  },
  {
   "cell_type": "markdown",
   "metadata": {},
   "source": [
    "### Print any pages with errors"
   ]
  },
  {
   "cell_type": "code",
   "execution_count": null,
   "metadata": {},
   "outputs": [],
   "source": [
    "error_page_ids = list(pages_with_errors.keys())\n",
    "print(error_page_ids)\n",
    "print(pages_with_errors)"
   ]
  },
  {
   "cell_type": "markdown",
   "metadata": {},
   "source": [
    "### For testing"
   ]
  },
  {
   "cell_type": "code",
   "execution_count": null,
   "metadata": {},
   "outputs": [],
   "source": [
    "# Test xml\n",
    "\n",
    "source = '''\n",
    "<ac:structured-macro ac:name=\"deck\" >\n",
    "  <ac:parameter ac:name=\"id\">Handover-Template</ac:parameter>\n",
    "  <ac:rich-text-body>\n",
    "    <ac:structured-macro ac:name=\"card\">\n",
    "      <ac:parameter ac:name=\"label\">Project History</ac:parameter>\n",
    "      <ac:rich-text-body>\n",
    "        <p>Content</p>\n",
    "      </ac:rich-text-body>\n",
    "    </ac:structured-macro>\n",
    "    <ac:structured-macro ac:name=\"card\">\n",
    "      <ac:parameter ac:name=\"label\">Tab2</ac:parameter>\n",
    "      <ac:rich-text-body>\n",
    "        <ac:structured-macro ac:name=\"deck\">\n",
    "          <ac:parameter ac:name=\"id\">Deck2</ac:parameter>\n",
    "          <ac:rich-text-body>\n",
    "            <ac:structured-macro ac:name=\"card\">\n",
    "              <ac:parameter ac:name=\"label\">Tab3</ac:parameter>\n",
    "              <ac:rich-text-body>\n",
    "                <p>Content</p>\n",
    "              </ac:rich-text-body>\n",
    "            </ac:structured-macro>\n",
    "          </ac:rich-text-body>\n",
    "        </ac:structured-macro>\n",
    "      </ac:rich-text-body>\n",
    "    </ac:structured-macro>\n",
    "  </ac:rich-text-body>\n",
    "</ac:structured-macro>\n",
    "'''\n",
    "\n",
    "target = '''\n",
    "<ac:structured-macro ac:name=\"auitabs\">\n",
    "  <ac:parameter ac:name=\"id\">Project History</ac:parameter>\n",
    "  <ac:rich-text-body>\n",
    "    <ac:structured-macro ac:name=\"auitabspage\">\n",
    "      <ac:parameter ac:name=\"lazyloading\">true</ac:parameter>\n",
    "      <ac:parameter ac:name=\"id\">Tab2</ac:parameter>\n",
    "      <ac:parameter ac:name=\"title\">Tab2</ac:parameter>\n",
    "      <ac:rich-text-body>\n",
    "        <p>Content</p>\n",
    "      </ac:rich-text-body>\n",
    "    </ac:structured-macro>\n",
    "    <ac:structured-macro ac:name=\"auitabspage\">\n",
    "      <ac:parameter ac:name=\"id\">Tab3</ac:parameter>\n",
    "      <ac:parameter ac:name=\"title\">Tab3</ac:parameter>\n",
    "      <ac:rich-text-body>\n",
    "        <ac:structured-macro ac:name=\"auitabs\">\n",
    "          <ac:parameter ac:name=\"id\">tc2</ac:parameter>\n",
    "          <ac:rich-text-body>\n",
    "            <ac:structured-macro ac:name=\"auitabspage\" >\n",
    "              <ac:parameter ac:name=\"lazyloading\">true</ac:parameter>\n",
    "              <ac:parameter ac:name=\"id\">Tab3</ac:parameter>\n",
    "              <ac:parameter ac:name=\"title\">Tab3</ac:parameter>\n",
    "              <ac:rich-text-body>\n",
    "                <p>Content</p>\n",
    "              </ac:rich-text-body>\n",
    "            </ac:structured-macro>\n",
    "          </ac:rich-text-body>\n",
    "        </ac:structured-macro>\n",
    "      </ac:rich-text-body>\n",
    "    </ac:structured-macro>\n",
    "  </ac:rich-text-body>\n",
    "</ac:structured-macro>\n",
    "'''\n",
    "content = source\n",
    "\n",
    "# content = source\n",
    "# content = change_Deck_to_TabsContainer(content)\n",
    "# content = change_Cards_to_TabsPage(content)\n",
    "# print(content)\n",
    "# soup = BeautifulSoup(content, 'lxml')\n",
    "# process_lazy_loading(soup)\n",
    "# content = \"\".join([str(x) for x in soup.body.children])\n",
    "# print(content)"
   ]
  }
 ],
 "metadata": {
  "kernelspec": {
   "display_name": "Python 3 (trusted by tscholz4)",
   "language": "python",
   "name": "python3_unsandboxed_tscholz4"
  },
  "language_info": {
   "codemirror_mode": {
    "name": "ipython",
    "version": 3
   },
   "file_extension": ".py",
   "mimetype": "text/x-python",
   "name": "python",
   "nbconvert_exporter": "python",
   "pygments_lexer": "ipython3",
   "version": "3.9.12"
  }
 },
 "nbformat": 4,
 "nbformat_minor": 4
}
